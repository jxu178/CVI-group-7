{
 "cells": [
  {
   "cell_type": "code",
   "execution_count": 1,
   "metadata": {},
   "outputs": [],
   "source": [
    "import cv2\n",
    "import numpy as np\n",
    "\n",
    "# Create a blank white image\n",
    "image = np.ones((500, 500, 3), dtype=np.uint8) * 255\n",
    "\n",
    "# Draw a green rectangle with thickness 4\n",
    "start_point = (100, 100)\n",
    "end_point = (300, 300)\n",
    "color = (0, 255, 0)  # Green color\n",
    "thickness = 4\n",
    "\n",
    "cv2.rectangle(image, start_point, end_point, color, thickness)\n",
    "\n",
    "# Display the image\n",
    "cv2.imshow(\"Rectangle\", image)\n",
    "cv2.waitKey(0)\n",
    "cv2.destroyAllWindows()\n"
   ]
  },
  {
   "cell_type": "code",
   "execution_count": 2,
   "metadata": {},
   "outputs": [],
   "source": [
    "thickness = -1  # This makes the rectangle filled\n",
    "\n",
    "cv2.rectangle(image, start_point, end_point, color, thickness)\n",
    "\n",
    "cv2.imshow(\"Filled Rectangle\", image)\n",
    "cv2.waitKey(0)\n",
    "cv2.destroyAllWindows()\n"
   ]
  },
  {
   "cell_type": "code",
   "execution_count": 4,
   "metadata": {},
   "outputs": [],
   "source": [
    "# Reset the image\n",
    "image = np.ones((500, 500, 3), dtype=np.uint8) * 255\n",
    "\n",
    "# Draw a filled green rectangle\n",
    "cv2.rectangle(image, start_point, end_point, color, -1)\n",
    "\n",
    "# Add text inside the rectangle\n",
    "text = \"Hello OpenCV\"\n",
    "font = cv2.FONT_HERSHEY_SIMPLEX\n",
    "font_scale = 1\n",
    "font_color = (255, 255, 255)  # White text\n",
    "thickness = 2\n",
    "\n",
    "# Get text size for centering\n",
    "(text_width, text_height), _ = cv2.getTextSize(text, font, font_scale, thickness)\n",
    "text_x = start_point[0] + (end_point[0] - start_point[0] - text_width) // 2\n",
    "text_y = start_point[1] + (end_point[1] - start_point[1] + text_height) // 2\n",
    "\n",
    "cv2.putText(image, text, (text_x, text_y), font, font_scale, font_color, thickness)\n",
    "\n",
    "# Display the image\n",
    "cv2.imshow(\"Group 7 assignment\", image)\n",
    "cv2.waitKey(0)\n",
    "cv2.destroyAllWindows()\n"
   ]
  }
 ],
 "metadata": {
  "kernelspec": {
   "display_name": "Python 3",
   "language": "python",
   "name": "python3"
  },
  "language_info": {
   "codemirror_mode": {
    "name": "ipython",
    "version": 3
   },
   "file_extension": ".py",
   "mimetype": "text/x-python",
   "name": "python",
   "nbconvert_exporter": "python",
   "pygments_lexer": "ipython3",
   "version": "3.13.1"
  }
 },
 "nbformat": 4,
 "nbformat_minor": 2
}
