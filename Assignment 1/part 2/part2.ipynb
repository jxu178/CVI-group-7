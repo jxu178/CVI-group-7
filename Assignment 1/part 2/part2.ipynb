{
 "cells": [
  {
   "cell_type": "code",
   "execution_count": 7,
   "metadata": {},
   "outputs": [
    {
     "data": {
      "text/plain": [
       "-1"
      ]
     },
     "execution_count": 7,
     "metadata": {},
     "output_type": "execute_result"
    }
   ],
   "source": [
    "import cv2\n",
    "import numpy as np\n",
    "\n",
    "def adjust_brightness(image, value):\n",
    "    return cv2.add(image, np.full(image.shape, value, dtype=np.uint8))\n",
    "\n",
    "def adjust_contrast(image, factor):\n",
    "    return cv2.convertScaleAbs(image, alpha=factor, beta=0)\n",
    "\n",
    "def blend_images(img1, img2, alpha):\n",
    "    return cv2.addWeighted(img1, 1 - alpha, img2, alpha, 0)\n",
    "\n",
    "# a.i. Open and display original image\n",
    "img1 = cv2.imread(\"image1.jpg\")\n",
    "cv2.imshow(\"Original Image\", img1)\n",
    "cv2.waitKey(0)"
   ]
  },
  {
   "cell_type": "code",
   "execution_count": 8,
   "metadata": {},
   "outputs": [
    {
     "data": {
      "text/plain": [
       "-1"
      ]
     },
     "execution_count": 8,
     "metadata": {},
     "output_type": "execute_result"
    }
   ],
   "source": [
    "# a.ii. Increase brightness by adding 150\n",
    "bright_img = adjust_brightness(img1, 150)\n",
    "cv2.imshow(\"Brightened Image\", bright_img)\n",
    "cv2.waitKey(0)"
   ]
  },
  {
   "cell_type": "code",
   "execution_count": 9,
   "metadata": {},
   "outputs": [
    {
     "data": {
      "text/plain": [
       "-1"
      ]
     },
     "execution_count": 9,
     "metadata": {},
     "output_type": "execute_result"
    }
   ],
   "source": [
    "# a.iii. Decrease contrast by multiplying by 0.5\n",
    "contrast_img = adjust_contrast(img1, 0.5)\n",
    "cv2.imshow(\"Contrast Adjusted Image\", contrast_img)\n",
    "cv2.waitKey(0)"
   ]
  },
  {
   "cell_type": "code",
   "execution_count": 10,
   "metadata": {},
   "outputs": [
    {
     "data": {
      "text/plain": [
       "-1"
      ]
     },
     "execution_count": 10,
     "metadata": {},
     "output_type": "execute_result"
    }
   ],
   "source": [
    "# b.i. Open second image and resize\n",
    "img2 = cv2.imread(\"image2.jpg\")\n",
    "img2 = cv2.resize(img2, (img1.shape[1], img1.shape[0]))\n",
    "cv2.imshow(\"Second Image\", img2)\n",
    "cv2.waitKey(0)"
   ]
  },
  {
   "cell_type": "code",
   "execution_count": 19,
   "metadata": {},
   "outputs": [],
   "source": [
    "# b.ii. Get alpha from user\n",
    "alpha = float(input(\"Enter alpha (0 to 1): \"))\n",
    "while alpha < 0 or alpha > 1:\n",
    "    alpha = float(input(\"Invalid input. Enter alpha (0 to 1): \"))"
   ]
  },
  {
   "cell_type": "code",
   "execution_count": 20,
   "metadata": {},
   "outputs": [],
   "source": [
    "# b.iii. Linear blend\n",
    "# Blend images\n",
    "blended_img = blend_images(img1, img2, alpha)\n",
    "cv2.imshow(\"Blended Image\", blended_img)\n",
    "cv2.waitKey(0)\n",
    "\n",
    "cv2.destroyAllWindows()"
   ]
  }
 ],
 "metadata": {
  "kernelspec": {
   "display_name": "Python 3",
   "language": "python",
   "name": "python3"
  },
  "language_info": {
   "codemirror_mode": {
    "name": "ipython",
    "version": 3
   },
   "file_extension": ".py",
   "mimetype": "text/x-python",
   "name": "python",
   "nbconvert_exporter": "python",
   "pygments_lexer": "ipython3",
   "version": "3.13.1"
  }
 },
 "nbformat": 4,
 "nbformat_minor": 2
}
